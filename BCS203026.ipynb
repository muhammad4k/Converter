{
 "cells": [
  {
   "cell_type": "markdown",
   "id": "0770d520",
   "metadata": {},
   "source": [
    "### Libraries"
   ]
  },
  {
   "cell_type": "code",
   "execution_count": null,
   "id": "c5400f1d",
   "metadata": {},
   "outputs": [],
   "source": [
    "from future.moves import tkinter\n",
    "import tkinter as tk  \n",
    "import requests  \n"
   ]
  },
  {
   "cell_type": "markdown",
   "id": "5abf5364",
   "metadata": {},
   "source": [
    "### A class to handle currency conversion using OpenExchangeRates API"
   ]
  },
  {
   "cell_type": "code",
   "execution_count": null,
   "id": "77115f72",
   "metadata": {},
   "outputs": [],
   "source": [
    "class CurrencyConverter:\n",
    "    API_URL = \"https://openexchangerates.org/api/latest.json?app_id=fbdb8bf4bc5743c69e298f358be4a5aa\"\n",
    "\n",
    "    def __init__(self):\n",
    "        self.app_id = \"fbdb8bf4bc5743c69e298f358be4a5aa\"\n",
    "        self.currencies = []  # list of currencies available\n",
    "        self.rates = {}  # dictionary to store exchange rates\n",
    "\n",
    "        self.load_currencies()  # load currencies and exchange rates from API\n",
    "\n",
    "    # Fetch currencies and exchange rates from API\n",
    "    def load_currencies(self):\n",
    "        response = requests.get(self.API_URL)\n",
    "        data = response.json()\n",
    "        self.currencies = sorted(list(data[\"rates\"].keys()))\n",
    "        self.currencies.insert(0, data[\"base\"])  # add base currency to the list\n",
    "        self.rates = data[\"rates\"]\n",
    "\n",
    "    # Convert amount from one currency to another\n",
    "    def convert(self, from_currency, to_currency, amount):\n",
    "        if from_currency == to_currency:\n",
    "            return amount\n",
    "\n",
    "        if from_currency != \"USD\":\n",
    "            # convert amount to USD first if not already in USD\n",
    "            amount = amount / self.rates[from_currency]\n",
    "\n",
    "        # convert amount from USD to target currency\n",
    "        amount = round(amount * self.rates[to_currency], 2)\n",
    "\n",
    "        return amount\n"
   ]
  },
  {
   "cell_type": "markdown",
   "id": "dedcae87",
   "metadata": {},
   "source": [
    "### A class to create a GUI for the currency converter application"
   ]
  },
  {
   "cell_type": "code",
   "execution_count": null,
   "id": "f625d811",
   "metadata": {},
   "outputs": [],
   "source": [
    "class CurrencyConverterApp:\n",
    "    def __init__(self, master):\n",
    "        self.converter = CurrencyConverter()  # create a currency converter instance\n",
    "\n",
    "        # Initialize Tkinter variables for dropdown menus, amount entry, result display\n",
    "        self.from_currency_var = tk.StringVar(master)\n",
    "        self.from_currency_var.set(self.converter.currencies[0])\n",
    "        self.to_currency_var = tk.StringVar(master)\n",
    "        self.to_currency_var.set(self.converter.currencies[1])\n",
    "        self.amount_var = tk.StringVar(master)\n",
    "        self.result_var = tk.StringVar(master)\n",
    "\n",
    "        # Create dropdown menus for selecting currencies\n",
    "        from_currency_dropdown = tk.OptionMenu(master, self.from_currency_var, *self.converter.currencies)\n",
    "        from_currency_dropdown.pack()\n",
    "\n",
    "        to_currency_dropdown = tk.OptionMenu(master, self.to_currency_var, *self.converter.currencies)\n",
    "        to_currency_dropdown.pack()\n",
    "\n",
    "        # Create an entry field for amount input\n",
    "        amount_entry = tk.Entry(master, textvariable=self.amount_var)\n",
    "        amount_entry.pack()\n",
    "\n",
    "        # Create a button to perform currency conversion\n",
    "        convert_button = tk.Button(master, text=\"Convert\", command=self.convert)\n",
    "        convert_button.pack()\n",
    "\n",
    "        # Create a label to display the conversion result\n",
    "        result_label = tk.Label(master, textvariable=self.result_var)\n",
    "        result_label.pack()\n",
    "\n",
    "        # Create a button to reset the form\n",
    "        reset_button = tk.Button(master, text=\"Reset\", command=self.reset)\n",
    "        reset_button.pack()\n"
   ]
  },
  {
   "cell_type": "markdown",
   "id": "de8da9ed",
   "metadata": {},
   "source": [
    "### Perform currency conversion and display the result"
   ]
  },
  {
   "cell_type": "code",
   "execution_count": null,
   "id": "91669b85",
   "metadata": {},
   "outputs": [],
   "source": [
    " def convert(self):\n",
    "        from_currency = self.from_currency_var.get()\n",
    "        to_currency = self.to_currency_var.get()\n",
    "        amount = float(self.amount_var.get())\n",
    "\n",
    "        converted_amount = self.converter.convert(from_currency, to_currency, amount)\n",
    "\n",
    "        self.result_var.set(f\"{converted_amount} {to_currency}\")\n"
   ]
  },
  {
   "cell_type": "markdown",
   "id": "76a8492f",
   "metadata": {},
   "source": [
    "### Reset the form to its initial state"
   ]
  },
  {
   "cell_type": "code",
   "execution_count": null,
   "id": "4b466cae",
   "metadata": {},
   "outputs": [],
   "source": [
    "    def reset(self):\n",
    "        self.from_currency_var.set(self.converter.currencies[0])\n",
    "        self.to_currency_var.set(self.converter.currencies[1])\n",
    "        self.amount_var.set(\"\")\n",
    "        self.result_var.set(\"\")\n"
   ]
  },
  {
   "cell_type": "markdown",
   "id": "4516ed9b",
   "metadata": {},
   "source": [
    "### Main function to run the Tkinter application"
   ]
  },
  {
   "cell_type": "code",
   "execution_count": null,
   "id": "7063613a",
   "metadata": {},
   "outputs": [],
   "source": [
    "if __name__ == \"__main__\":\n",
    "    root = tk.Tk()  # create a Tkinter root window\n",
    "    root.title(\"Currency Converter\")\n",
    "    app = CurrencyConverterApp(root)\n",
    "    root.mainloop()\n"
   ]
  }
 ],
 "metadata": {
  "kernelspec": {
   "display_name": "Python 3 (ipykernel)",
   "language": "python",
   "name": "python3"
  },
  "language_info": {
   "codemirror_mode": {
    "name": "ipython",
    "version": 3
   },
   "file_extension": ".py",
   "mimetype": "text/x-python",
   "name": "python",
   "nbconvert_exporter": "python",
   "pygments_lexer": "ipython3",
   "version": "3.10.9"
  }
 },
 "nbformat": 4,
 "nbformat_minor": 5
}
